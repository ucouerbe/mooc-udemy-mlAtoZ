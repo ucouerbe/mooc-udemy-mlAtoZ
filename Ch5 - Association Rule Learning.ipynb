{
 "cells": [
  {
   "cell_type": "markdown",
   "metadata": {},
   "source": [
    "# Chapter 5: Association Rule Learning#"
   ]
  },
  {
   "cell_type": "markdown",
   "metadata": {},
   "source": [
    "Legend of the supermarket that discovers with data science that the sales of beers and diapers in the afternoon are highly correlated: the people that buy diapers in the afternoon frequently buy beers along. <br>\n",
    "Different possibility to react to this information: put them closer or put them far away from each other to maximize the length of stay in the supermarket. It's actually similar for bread and milk."
   ]
  },
  {
   "cell_type": "markdown",
   "metadata": {},
   "source": [
    "## 1. Apriori Algorithm ##"
   ]
  },
  {
   "cell_type": "markdown",
   "metadata": {},
   "source": [
    "This is the purpose of Apriori algorithm: people who bought that, also bought that."
   ]
  },
  {
   "cell_type": "markdown",
   "metadata": {},
   "source": [
    "Three parts:\n",
    "+ Support M: for movie M it's the number of people who watched it divided by the total number of people\n",
    "+ Confidence M1 -> M2: # users who watched M1 and M2 divided by # of users who watched M1\n",
    "+ Lift: Confidence (M1 -> M2) / Support (M2)\n",
    "\n",
    "The lift is the improvement in the probability if we recommend M2 only to people who've seen M1 and not to the overall population."
   ]
  },
  {
   "cell_type": "markdown",
   "metadata": {},
   "source": [
    "+ **Step 1:** Set up a minimum confidence and support\n",
    "+ **Step 2:** Take all the subsets having better support than the minimum\n",
    "+ **Step 3:** Take all the rules of this subset that have higher confidence than the minimum\n",
    "+ **Step 4:** Sort the rules by decreasing lift\n",
    "    <br>NB: In Python they are automatically sorted by relevance which is a combination of support, confidence and lift"
   ]
  },
  {
   "cell_type": "code",
   "execution_count": null,
   "metadata": {},
   "outputs": [],
   "source": [
    "# Apriori\n",
    "\n",
    "# Importing the libraries\n",
    "import numpy as np\n",
    "import matplotlib.pyplot as plt\n",
    "import pandas as pd\n",
    "\n",
    "# Data Preprocessing\n",
    "dataset = pd.read_csv('Market_Basket_Optimisation.csv', header = None)\n",
    "transactions = []\n",
    "for i in range(0, 7501):\n",
    "    transactions.append([str(dataset.values[i,j]) for j in range(0, 20)])\n",
    "\n",
    "# Training Apriori on the dataset\n",
    "from apyori import apriori\n",
    "rules = apriori(transactions, min_support = 0.003, min_confidence = 0.2, min_lift = 3, min_length = 2)\n",
    "\n",
    "# Visualising the results\n",
    "results = list(rules)"
   ]
  },
  {
   "cell_type": "markdown",
   "metadata": {},
   "source": [
    "## 2. Eclat model ##"
   ]
  },
  {
   "cell_type": "markdown",
   "metadata": {},
   "source": [
    "Same purpose but different component: we only have Support. The trick is that we apply it for a set, not for a single item.\n",
    "+ Support M: Out of all the customers, who bought M (M1 & M2)"
   ]
  },
  {
   "cell_type": "markdown",
   "metadata": {},
   "source": [
    "+ **Step 1:** Set up a minimum support\n",
    "+ **Step 2:** Take all the subsets having better support than the minimum\n",
    "+ **Step 3:** Rank the subsets by decreasing support"
   ]
  }
 ],
 "metadata": {
  "kernelspec": {
   "display_name": "Python 3",
   "language": "python",
   "name": "python3"
  },
  "language_info": {
   "codemirror_mode": {
    "name": "ipython",
    "version": 3
   },
   "file_extension": ".py",
   "mimetype": "text/x-python",
   "name": "python",
   "nbconvert_exporter": "python",
   "pygments_lexer": "ipython3",
   "version": "3.6.4"
  }
 },
 "nbformat": 4,
 "nbformat_minor": 2
}
